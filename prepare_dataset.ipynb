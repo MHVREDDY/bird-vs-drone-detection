{
 "cells": [
  {
   "cell_type": "code",
   "execution_count": null,
   "id": "7396f5f2-bee9-4e0d-bee4-76f0a8ea7438",
   "metadata": {},
   "outputs": [],
   "source": [
    "import os\n",
    "import shutil\n",
    "from sklearn.model_selection import train_test_split"
   ]
  },
  {
   "cell_type": "code",
   "execution_count": null,
   "id": "d4b66d75-9f92-443f-8d2d-6eb03b7ed100",
   "metadata": {},
   "outputs": [],
   "source": [
    "# Paths\n",
    "bird_dir = '/content/drive/MyDrive/datasetbird'  # update if needed\n",
    "drone_dir = '/content/drive/MyDrive/dataset_txt'\n",
    "base_path = '/content/yolov5/dataset'\n"
   ]
  },
  {
   "cell_type": "code",
   "execution_count": null,
   "id": "b13f503e-5f31-463d-b5a3-5b096a787040",
   "metadata": {},
   "outputs": [],
   "source": [
    "for split in ['train', 'val']:\n",
    "    os.makedirs(f'{base_path}/images/{split}', exist_ok=True)\n",
    "    os.makedirs(f'{base_path}/labels/{split}', exist_ok=True)"
   ]
  },
  {
   "cell_type": "code",
   "execution_count": null,
   "id": "21d275c4-3704-4c0f-95e9-f370317c125c",
   "metadata": {},
   "outputs": [],
   "source": [
    "def collect_pairs(src_dir):\n",
    "    image_exts = ('.jpg', '.jpeg', '.png')\n",
    "    all_files = os.listdir(src_dir)\n",
    "    images = [f for f in all_files if f.lower().endswith(image_exts)]\n",
    "    pairs = []\n",
    "    for img in images:\n",
    "        name = os.path.splitext(img)[0]\n",
    "        label_file = name + '.txt'\n",
    "        if label_file in all_files:\n",
    "            pairs.append((img, label_file))\n",
    "    return pairs"
   ]
  },
  {
   "cell_type": "code",
   "execution_count": null,
   "id": "f87d0844-16e2-4421-b800-caf9fb1d5c96",
   "metadata": {},
   "outputs": [],
   "source": [
    "bird_pairs = collect_pairs(bird_dir)\n",
    "drone_pairs = collect_pairs(drone_dir)\n",
    "bird_train, bird_val = train_test_split(bird_pairs, test_size=0.2, random_state=42)\n",
    "drone_train, drone_val = train_test_split(drone_pairs, test_size=0.2, random_state=42)"
   ]
  },
  {
   "cell_type": "code",
   "execution_count": null,
   "id": "c17d78ee-244b-4823-9365-6e93352646d7",
   "metadata": {},
   "outputs": [],
   "source": [
    "# Copy and relabel\n",
    "def copy_and_relabel(pairs, src_dir, split, label_idx):\n",
    "    for img, lbl in pairs:\n",
    "        img_src = os.path.join(src_dir, img)\n",
    "        lbl_src = os.path.join(src_dir, lbl)\n",
    "        img_dst = f'{base_path}/images/{split}/{img}'\n",
    "        lbl_dst = f'{base_path}/labels/{split}/{lbl}'\n",
    "        shutil.copy(img_src, img_dst)\n",
    "        with open(lbl_src, 'r') as f:\n",
    "            lines = f.readlines()\n",
    "        with open(lbl_dst, 'w') as f:\n",
    "            for line in lines:\n",
    "                parts = line.strip().split()\n",
    "                if parts and parts[0].isdigit():\n",
    "                    parts[0] = str(label_idx)\n",
    "                    f.write(' '.join(parts) + '\\n')"
   ]
  },
  {
   "cell_type": "code",
   "execution_count": null,
   "id": "82d77ff6-393f-41c4-880f-0c789aae91a1",
   "metadata": {},
   "outputs": [],
   "source": [
    "copy_and_relabel(bird_train, bird_dir, 'train', 0)\n",
    "copy_and_relabel(bird_val, bird_dir, 'val', 0)\n",
    "copy_and_relabel(drone_train, drone_dir, 'train', 1)\n",
    "copy_and_relabel(drone_val, drone_dir, 'val', 1)\n",
    "\n",
    "print(\"✅ Dataset copied and relabeled!\")"
   ]
  }
 ],
 "metadata": {
  "kernelspec": {
   "display_name": "Python 3 (ipykernel)",
   "language": "python",
   "name": "python3"
  },
  "language_info": {
   "codemirror_mode": {
    "name": "ipython",
    "version": 3
   },
   "file_extension": ".py",
   "mimetype": "text/x-python",
   "name": "python",
   "nbconvert_exporter": "python",
   "pygments_lexer": "ipython3",
   "version": "3.12.7"
  }
 },
 "nbformat": 4,
 "nbformat_minor": 5
}
