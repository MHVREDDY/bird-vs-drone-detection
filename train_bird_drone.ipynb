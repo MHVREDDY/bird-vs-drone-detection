{
 "cells": [
  {
   "cell_type": "code",
   "execution_count": null,
   "id": "0e80cdd6-2dab-4ef3-9b03-68592e7ccc04",
   "metadata": {},
   "outputs": [],
   "source": [
    "!python train.py --img 640 --batch 16 --epochs 50 --data dataset/dataset.yaml --weights yolov5s.pt --name bird_drone_detect\n"
   ]
  }
 ],
 "metadata": {
  "kernelspec": {
   "display_name": "Python 3 (ipykernel)",
   "language": "python",
   "name": "python3"
  },
  "language_info": {
   "codemirror_mode": {
    "name": "ipython",
    "version": 3
   },
   "file_extension": ".py",
   "mimetype": "text/x-python",
   "name": "python",
   "nbconvert_exporter": "python",
   "pygments_lexer": "ipython3",
   "version": "3.12.7"
  }
 },
 "nbformat": 4,
 "nbformat_minor": 5
}
