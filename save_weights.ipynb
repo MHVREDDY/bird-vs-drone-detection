{
 "cells": [
  {
   "cell_type": "code",
   "execution_count": null,
   "id": "a50386ff-c984-4d09-a5e9-935442badd70",
   "metadata": {},
   "outputs": [],
   "source": [
    "weights_src = '/content/yolov5/runs/train/bird_drone_detect/weights/best.pt'\n",
    "weights_dst = '/content/drive/MyDrive/bird_drone_weights.pt'\n",
    "shutil.copy(weights_src, weights_dst)\n",
    "print(\"✅ Weights saved to Google Drive!\")"
   ]
  }
 ],
 "metadata": {
  "kernelspec": {
   "display_name": "Python 3 (ipykernel)",
   "language": "python",
   "name": "python3"
  },
  "language_info": {
   "codemirror_mode": {
    "name": "ipython",
    "version": 3
   },
   "file_extension": ".py",
   "mimetype": "text/x-python",
   "name": "python",
   "nbconvert_exporter": "python",
   "pygments_lexer": "ipython3",
   "version": "3.12.7"
  }
 },
 "nbformat": 4,
 "nbformat_minor": 5
}
