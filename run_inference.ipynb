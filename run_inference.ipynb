{
 "cells": [
  {
   "cell_type": "code",
   "execution_count": null,
   "id": "47abdc99-b97b-4127-a83c-ff7b08a9c793",
   "metadata": {},
   "outputs": [],
   "source": [
    "import torch\n",
    "\n",
    "def detect_image(image_path, weights_path='/content/drive/MyDrive/bird_drone_weights.pt', conf_thres=0.25):\n",
    "    model = torch.hub.load('ultralytics/yolov5', 'custom', path=weights_path)\n",
    "    model.conf = conf_thres\n",
    "    results = model(image_path)\n",
    "    results.print()\n",
    "    results.show()\n",
    "    results.save(save_dir='runs/detect_results')\n",
    "    print(\"✅ Detection done!\")\n",
    "\n",
    "# Example usage:\n",
    "detect_image('/content/ddd.jpeg')"
   ]
  }
 ],
 "metadata": {
  "kernelspec": {
   "display_name": "Python 3 (ipykernel)",
   "language": "python",
   "name": "python3"
  },
  "language_info": {
   "codemirror_mode": {
    "name": "ipython",
    "version": 3
   },
   "file_extension": ".py",
   "mimetype": "text/x-python",
   "name": "python",
   "nbconvert_exporter": "python",
   "pygments_lexer": "ipython3",
   "version": "3.12.7"
  }
 },
 "nbformat": 4,
 "nbformat_minor": 5
}
