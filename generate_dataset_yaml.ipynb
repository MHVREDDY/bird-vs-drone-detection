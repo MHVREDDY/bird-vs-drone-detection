{
 "cells": [
  {
   "cell_type": "code",
   "execution_count": null,
   "id": "67b78942-2b1c-4d6d-889f-dd3e88949bb5",
   "metadata": {},
   "outputs": [],
   "source": [
    "yaml_content = \"\"\"\n",
    "train: /content/yolov5/dataset/images/train\n",
    "val: /content/yolov5/dataset/images/val\n",
    "nc: 2\n",
    "names: ['bird', 'drone']\n",
    "\"\"\"\n",
    "with open('/content/yolov5/dataset/dataset.yaml', 'w') as f:\n",
    "    f.write(yaml_content)\n",
    "\n",
    "print(\"✅ dataset.yaml created!\")"
   ]
  }
 ],
 "metadata": {
  "kernelspec": {
   "display_name": "Python 3 (ipykernel)",
   "language": "python",
   "name": "python3"
  },
  "language_info": {
   "codemirror_mode": {
    "name": "ipython",
    "version": 3
   },
   "file_extension": ".py",
   "mimetype": "text/x-python",
   "name": "python",
   "nbconvert_exporter": "python",
   "pygments_lexer": "ipython3",
   "version": "3.12.7"
  }
 },
 "nbformat": 4,
 "nbformat_minor": 5
}
